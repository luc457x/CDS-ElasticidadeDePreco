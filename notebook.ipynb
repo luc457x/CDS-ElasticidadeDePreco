{
 "cells": [
  {
   "cell_type": "markdown",
   "metadata": {},
   "source": [
    "# 1 - Preparação"
   ]
  },
  {
   "cell_type": "code",
   "execution_count": 17,
   "metadata": {},
   "outputs": [],
   "source": [
    "import pandas as pd\n",
    "import numpy as np\n",
    "import matplotlib.pyplot as plt\n",
    "import seaborn as sns"
   ]
  },
  {
   "cell_type": "code",
   "execution_count": 18,
   "metadata": {},
   "outputs": [
    {
     "data": {
      "application/vnd.microsoft.datawrangler.viewer.v0+json": {
       "columns": [
        {
         "name": "index",
         "rawType": "int64",
         "type": "integer"
        },
        {
         "name": "Unnamed: 0",
         "rawType": "int64",
         "type": "integer"
        },
        {
         "name": "Date_imp",
         "rawType": "object",
         "type": "string"
        },
        {
         "name": "Date_imp_d",
         "rawType": "object",
         "type": "string"
        },
        {
         "name": "Cluster",
         "rawType": "int64",
         "type": "integer"
        },
        {
         "name": "Category_name",
         "rawType": "object",
         "type": "string"
        },
        {
         "name": "name",
         "rawType": "object",
         "type": "string"
        },
        {
         "name": "price",
         "rawType": "float64",
         "type": "float"
        },
        {
         "name": "disc_price",
         "rawType": "float64",
         "type": "float"
        },
        {
         "name": "merchant",
         "rawType": "object",
         "type": "string"
        },
        {
         "name": "condition",
         "rawType": "object",
         "type": "string"
        },
        {
         "name": "Disc_percentage",
         "rawType": "float64",
         "type": "float"
        },
        {
         "name": "isSale",
         "rawType": "object",
         "type": "string"
        },
        {
         "name": "Imp_count",
         "rawType": "int64",
         "type": "integer"
        },
        {
         "name": "brand",
         "rawType": "object",
         "type": "string"
        },
        {
         "name": "p_description",
         "rawType": "object",
         "type": "string"
        },
        {
         "name": "currency",
         "rawType": "object",
         "type": "string"
        },
        {
         "name": "dateAdded",
         "rawType": "object",
         "type": "string"
        },
        {
         "name": "dateSeen",
         "rawType": "object",
         "type": "string"
        },
        {
         "name": "dateUpdated",
         "rawType": "object",
         "type": "string"
        },
        {
         "name": "imageURLs",
         "rawType": "object",
         "type": "unknown"
        },
        {
         "name": "manufacturer",
         "rawType": "object",
         "type": "string"
        },
        {
         "name": "shipping",
         "rawType": "object",
         "type": "unknown"
        },
        {
         "name": "sourceURLs",
         "rawType": "object",
         "type": "string"
        },
        {
         "name": "weight",
         "rawType": "object",
         "type": "string"
        },
        {
         "name": "Date_imp_d.1",
         "rawType": "object",
         "type": "string"
        },
        {
         "name": "Day_n",
         "rawType": "object",
         "type": "string"
        },
        {
         "name": "month",
         "rawType": "int64",
         "type": "integer"
        },
        {
         "name": "month_n",
         "rawType": "object",
         "type": "string"
        },
        {
         "name": "day",
         "rawType": "int64",
         "type": "integer"
        },
        {
         "name": "Week_Number",
         "rawType": "int64",
         "type": "integer"
        },
        {
         "name": "Zscore_1",
         "rawType": "float64",
         "type": "float"
        },
        {
         "name": "price_std",
         "rawType": "float64",
         "type": "float"
        }
       ],
       "ref": "e8bef6a7-bcd5-416f-8e68-273a283b74e9",
       "rows": [
        [
         "23146",
         "29588",
         "2017-06-01 10:00:00",
         "2017/06/01",
         "25",
         "sound, speaker, home",
         "naxa - 2.1-Channel Soundbar with 50-Watt Digital Amplifier - Black",
         "58.99",
         "58.99",
         "Bestbuy.com",
         "New",
         "0.0",
         "No",
         "6",
         "naxa",
         "TVs & Electronics,Computers,Home Theater & Audio,Computer Accessories,Speaker Systems,Frys,Electronics,Sound Bars,Speakers,Portable Audio,Home Audio & Theater,All Home Speakers,Home Theater Systems,Home Audio,Audio,Computer Speakers,MP3 Accessories",
         "USD",
         "2015-09-11T02:03:11Z",
         "2017-10-10T19:00:00Z,2017-09-06T17:00:00Z,2017-09-18T15:00:00Z,2017-08-30T05:00:00Z,2017-06-01T18:00:00Z,2017-06-01T10:00:00Z",
         "2018-06-13T19:43:55Z",
         null,
         "Naxa",
         null,
         "https://www.bestbuy.com/site/naxa-2-1-channel-soundbar-with-50-watt-digital-amplifier-black/5763749.p%253FskuId%253D5763749,http://www.bestbuy.com/site/naxa-2-1-channel-soundbar-with-50-watt-digital-amplifier-black/5763749.p%253FskuId%253D5763749",
         "4.1 pounds",
         "2017/06/01",
         "Thursday",
         "6",
         "June",
         "1",
         "22",
         "-0.715264381014835",
         "34.3964283860154"
        ],
        [
         "23147",
         "29589",
         "2017-08-15 15:00:00",
         "2017/08/15",
         "25",
         "sound, speaker, home",
         "naxa - 2.1-Channel Soundbar with 50-Watt Digital Amplifier - Black",
         "63.99",
         "58.49",
         "Walmart.com",
         "New",
         "0.09",
         "Yes",
         "2",
         "naxa",
         "TVs & Electronics,Computers,Home Theater & Audio,Computer Accessories,Speaker Systems,Frys,Electronics,Sound Bars,Speakers,Portable Audio,Home Audio & Theater,All Home Speakers,Home Theater Systems,Home Audio,Audio,Computer Speakers,MP3 Accessories",
         "USD",
         "2015-09-11T02:03:11Z",
         "2017-08-15T15:00:00Z,2017-07-23T00:00:00Z",
         "2018-06-13T19:43:55Z",
         null,
         "Naxa",
         "Standard",
         "https://www.walmart.com/ip/Naxa-42-Sound-bar-with-bluetooth-built-in-subwoofer/44184075",
         "4.1 pounds",
         "2017/08/15",
         "Tuesday",
         "8",
         "August",
         "15",
         "33",
         "-0.3530133954681863",
         "11.434096305932238"
        ],
        [
         "23148",
         "29590",
         "2017-07-23 00:00:00",
         "2017/07/23",
         "25",
         "sound, speaker, home",
         "naxa - 2.1-Channel Soundbar with 50-Watt Digital Amplifier - Black",
         "63.99",
         "58.49",
         "Walmart.com",
         "New",
         "0.09",
         "Yes",
         "2",
         "naxa",
         "TVs & Electronics,Computers,Home Theater & Audio,Computer Accessories,Speaker Systems,Frys,Electronics,Sound Bars,Speakers,Portable Audio,Home Audio & Theater,All Home Speakers,Home Theater Systems,Home Audio,Audio,Computer Speakers,MP3 Accessories",
         "USD",
         "2015-09-11T02:03:11Z",
         "2017-08-15T15:00:00Z,2017-07-23T00:00:00Z",
         "2018-06-13T19:43:55Z",
         null,
         "Naxa",
         "Standard",
         "https://www.walmart.com/ip/Naxa-42-Sound-bar-with-bluetooth-built-in-subwoofer/44184075",
         "4.1 pounds",
         "2017/07/23",
         "Sunday",
         "7",
         "July",
         "23",
         "29",
         "-0.3530133954681863",
         "11.434096305932238"
        ],
        [
         "23149",
         "29591",
         "2017-11-12 08:00:00",
         "2017/11/12",
         "25",
         "sound, speaker, home",
         "naxa - 2.1-Channel Soundbar with 50-Watt Digital Amplifier - Black",
         "81.52",
         "81.52",
         "Walmart.com",
         "New",
         "0.0",
         "No",
         "1",
         "naxa",
         "TVs & Electronics,Computers,Home Theater & Audio,Computer Accessories,Speaker Systems,Frys,Electronics,Sound Bars,Speakers,Portable Audio,Home Audio & Theater,All Home Speakers,Home Theater Systems,Home Audio,Audio,Computer Speakers,MP3 Accessories",
         "USD",
         "2015-09-11T02:03:11Z",
         "2017-11-12T08:00:00Z",
         "2018-06-13T19:43:55Z",
         null,
         "Naxa",
         "Standard",
         "https://www.walmart.com/ip/Naxa-42-Sound-bar-with-bluetooth-built-in-subwoofer/44184075",
         "4.1 pounds",
         "2017/11/12",
         "Sunday",
         "11",
         "November",
         "12",
         "45",
         "1.128628621105788",
         "11.434096305932238"
        ],
        [
         "23150",
         "29592",
         "2017-12-14 06:00:00",
         "2017/12/14",
         "25",
         "sound, speaker, home",
         "naxa - 2.1-Channel Soundbar with 50-Watt Digital Amplifier - Black",
         "58.99",
         "58.99",
         "Walmart.com",
         "New",
         "0.0",
         "No",
         "1",
         "naxa",
         "TVs & Electronics,Computers,Home Theater & Audio,Computer Accessories,Speaker Systems,Frys,Electronics,Sound Bars,Speakers,Portable Audio,Home Audio & Theater,All Home Speakers,Home Theater Systems,Home Audio,Audio,Computer Speakers,MP3 Accessories",
         "USD",
         "2015-09-11T02:03:11Z",
         "2017-12-14T06:00:00Z",
         "2018-06-13T19:43:55Z",
         null,
         "Naxa",
         "Standard",
         "https://www.walmart.com/ip/Naxa-42-Sound-bar-with-bluetooth-built-in-subwoofer/44184075",
         "4.1 pounds",
         "2017/12/14",
         "Thursday",
         "12",
         "December",
         "14",
         "50",
         "-0.7756152256376031",
         "11.434096305932238"
        ]
       ],
       "shape": {
        "columns": 32,
        "rows": 5
       }
      },
      "text/html": [
       "<div>\n",
       "<style scoped>\n",
       "    .dataframe tbody tr th:only-of-type {\n",
       "        vertical-align: middle;\n",
       "    }\n",
       "\n",
       "    .dataframe tbody tr th {\n",
       "        vertical-align: top;\n",
       "    }\n",
       "\n",
       "    .dataframe thead th {\n",
       "        text-align: right;\n",
       "    }\n",
       "</style>\n",
       "<table border=\"1\" class=\"dataframe\">\n",
       "  <thead>\n",
       "    <tr style=\"text-align: right;\">\n",
       "      <th></th>\n",
       "      <th>Unnamed: 0</th>\n",
       "      <th>Date_imp</th>\n",
       "      <th>Date_imp_d</th>\n",
       "      <th>Cluster</th>\n",
       "      <th>Category_name</th>\n",
       "      <th>name</th>\n",
       "      <th>price</th>\n",
       "      <th>disc_price</th>\n",
       "      <th>merchant</th>\n",
       "      <th>condition</th>\n",
       "      <th>...</th>\n",
       "      <th>sourceURLs</th>\n",
       "      <th>weight</th>\n",
       "      <th>Date_imp_d.1</th>\n",
       "      <th>Day_n</th>\n",
       "      <th>month</th>\n",
       "      <th>month_n</th>\n",
       "      <th>day</th>\n",
       "      <th>Week_Number</th>\n",
       "      <th>Zscore_1</th>\n",
       "      <th>price_std</th>\n",
       "    </tr>\n",
       "  </thead>\n",
       "  <tbody>\n",
       "    <tr>\n",
       "      <th>23146</th>\n",
       "      <td>29588</td>\n",
       "      <td>2017-06-01 10:00:00</td>\n",
       "      <td>2017/06/01</td>\n",
       "      <td>25</td>\n",
       "      <td>sound, speaker, home</td>\n",
       "      <td>naxa - 2.1-Channel Soundbar with 50-Watt Digit...</td>\n",
       "      <td>58.99</td>\n",
       "      <td>58.99</td>\n",
       "      <td>Bestbuy.com</td>\n",
       "      <td>New</td>\n",
       "      <td>...</td>\n",
       "      <td>https://www.bestbuy.com/site/naxa-2-1-channel-...</td>\n",
       "      <td>4.1 pounds</td>\n",
       "      <td>2017/06/01</td>\n",
       "      <td>Thursday</td>\n",
       "      <td>6</td>\n",
       "      <td>June</td>\n",
       "      <td>1</td>\n",
       "      <td>22</td>\n",
       "      <td>-0.715264</td>\n",
       "      <td>34.396428</td>\n",
       "    </tr>\n",
       "    <tr>\n",
       "      <th>23147</th>\n",
       "      <td>29589</td>\n",
       "      <td>2017-08-15 15:00:00</td>\n",
       "      <td>2017/08/15</td>\n",
       "      <td>25</td>\n",
       "      <td>sound, speaker, home</td>\n",
       "      <td>naxa - 2.1-Channel Soundbar with 50-Watt Digit...</td>\n",
       "      <td>63.99</td>\n",
       "      <td>58.49</td>\n",
       "      <td>Walmart.com</td>\n",
       "      <td>New</td>\n",
       "      <td>...</td>\n",
       "      <td>https://www.walmart.com/ip/Naxa-42-Sound-bar-w...</td>\n",
       "      <td>4.1 pounds</td>\n",
       "      <td>2017/08/15</td>\n",
       "      <td>Tuesday</td>\n",
       "      <td>8</td>\n",
       "      <td>August</td>\n",
       "      <td>15</td>\n",
       "      <td>33</td>\n",
       "      <td>-0.353013</td>\n",
       "      <td>11.434096</td>\n",
       "    </tr>\n",
       "    <tr>\n",
       "      <th>23148</th>\n",
       "      <td>29590</td>\n",
       "      <td>2017-07-23 00:00:00</td>\n",
       "      <td>2017/07/23</td>\n",
       "      <td>25</td>\n",
       "      <td>sound, speaker, home</td>\n",
       "      <td>naxa - 2.1-Channel Soundbar with 50-Watt Digit...</td>\n",
       "      <td>63.99</td>\n",
       "      <td>58.49</td>\n",
       "      <td>Walmart.com</td>\n",
       "      <td>New</td>\n",
       "      <td>...</td>\n",
       "      <td>https://www.walmart.com/ip/Naxa-42-Sound-bar-w...</td>\n",
       "      <td>4.1 pounds</td>\n",
       "      <td>2017/07/23</td>\n",
       "      <td>Sunday</td>\n",
       "      <td>7</td>\n",
       "      <td>July</td>\n",
       "      <td>23</td>\n",
       "      <td>29</td>\n",
       "      <td>-0.353013</td>\n",
       "      <td>11.434096</td>\n",
       "    </tr>\n",
       "    <tr>\n",
       "      <th>23149</th>\n",
       "      <td>29591</td>\n",
       "      <td>2017-11-12 08:00:00</td>\n",
       "      <td>2017/11/12</td>\n",
       "      <td>25</td>\n",
       "      <td>sound, speaker, home</td>\n",
       "      <td>naxa - 2.1-Channel Soundbar with 50-Watt Digit...</td>\n",
       "      <td>81.52</td>\n",
       "      <td>81.52</td>\n",
       "      <td>Walmart.com</td>\n",
       "      <td>New</td>\n",
       "      <td>...</td>\n",
       "      <td>https://www.walmart.com/ip/Naxa-42-Sound-bar-w...</td>\n",
       "      <td>4.1 pounds</td>\n",
       "      <td>2017/11/12</td>\n",
       "      <td>Sunday</td>\n",
       "      <td>11</td>\n",
       "      <td>November</td>\n",
       "      <td>12</td>\n",
       "      <td>45</td>\n",
       "      <td>1.128629</td>\n",
       "      <td>11.434096</td>\n",
       "    </tr>\n",
       "    <tr>\n",
       "      <th>23150</th>\n",
       "      <td>29592</td>\n",
       "      <td>2017-12-14 06:00:00</td>\n",
       "      <td>2017/12/14</td>\n",
       "      <td>25</td>\n",
       "      <td>sound, speaker, home</td>\n",
       "      <td>naxa - 2.1-Channel Soundbar with 50-Watt Digit...</td>\n",
       "      <td>58.99</td>\n",
       "      <td>58.99</td>\n",
       "      <td>Walmart.com</td>\n",
       "      <td>New</td>\n",
       "      <td>...</td>\n",
       "      <td>https://www.walmart.com/ip/Naxa-42-Sound-bar-w...</td>\n",
       "      <td>4.1 pounds</td>\n",
       "      <td>2017/12/14</td>\n",
       "      <td>Thursday</td>\n",
       "      <td>12</td>\n",
       "      <td>December</td>\n",
       "      <td>14</td>\n",
       "      <td>50</td>\n",
       "      <td>-0.775615</td>\n",
       "      <td>11.434096</td>\n",
       "    </tr>\n",
       "  </tbody>\n",
       "</table>\n",
       "<p>5 rows × 32 columns</p>\n",
       "</div>"
      ],
      "text/plain": [
       "       Unnamed: 0             Date_imp  Date_imp_d  Cluster  \\\n",
       "23146       29588  2017-06-01 10:00:00  2017/06/01       25   \n",
       "23147       29589  2017-08-15 15:00:00  2017/08/15       25   \n",
       "23148       29590  2017-07-23 00:00:00  2017/07/23       25   \n",
       "23149       29591  2017-11-12 08:00:00  2017/11/12       25   \n",
       "23150       29592  2017-12-14 06:00:00  2017/12/14       25   \n",
       "\n",
       "              Category_name  \\\n",
       "23146  sound, speaker, home   \n",
       "23147  sound, speaker, home   \n",
       "23148  sound, speaker, home   \n",
       "23149  sound, speaker, home   \n",
       "23150  sound, speaker, home   \n",
       "\n",
       "                                                    name  price  disc_price  \\\n",
       "23146  naxa - 2.1-Channel Soundbar with 50-Watt Digit...  58.99       58.99   \n",
       "23147  naxa - 2.1-Channel Soundbar with 50-Watt Digit...  63.99       58.49   \n",
       "23148  naxa - 2.1-Channel Soundbar with 50-Watt Digit...  63.99       58.49   \n",
       "23149  naxa - 2.1-Channel Soundbar with 50-Watt Digit...  81.52       81.52   \n",
       "23150  naxa - 2.1-Channel Soundbar with 50-Watt Digit...  58.99       58.99   \n",
       "\n",
       "          merchant condition  ...  \\\n",
       "23146  Bestbuy.com       New  ...   \n",
       "23147  Walmart.com       New  ...   \n",
       "23148  Walmart.com       New  ...   \n",
       "23149  Walmart.com       New  ...   \n",
       "23150  Walmart.com       New  ...   \n",
       "\n",
       "                                              sourceURLs      weight  \\\n",
       "23146  https://www.bestbuy.com/site/naxa-2-1-channel-...  4.1 pounds   \n",
       "23147  https://www.walmart.com/ip/Naxa-42-Sound-bar-w...  4.1 pounds   \n",
       "23148  https://www.walmart.com/ip/Naxa-42-Sound-bar-w...  4.1 pounds   \n",
       "23149  https://www.walmart.com/ip/Naxa-42-Sound-bar-w...  4.1 pounds   \n",
       "23150  https://www.walmart.com/ip/Naxa-42-Sound-bar-w...  4.1 pounds   \n",
       "\n",
       "       Date_imp_d.1     Day_n month   month_n day Week_Number  Zscore_1  \\\n",
       "23146    2017/06/01  Thursday     6      June   1          22 -0.715264   \n",
       "23147    2017/08/15   Tuesday     8    August  15          33 -0.353013   \n",
       "23148    2017/07/23    Sunday     7      July  23          29 -0.353013   \n",
       "23149    2017/11/12    Sunday    11  November  12          45  1.128629   \n",
       "23150    2017/12/14  Thursday    12  December  14          50 -0.775615   \n",
       "\n",
       "       price_std  \n",
       "23146  34.396428  \n",
       "23147  11.434096  \n",
       "23148  11.434096  \n",
       "23149  11.434096  \n",
       "23150  11.434096  \n",
       "\n",
       "[5 rows x 32 columns]"
      ]
     },
     "execution_count": 18,
     "metadata": {},
     "output_type": "execute_result"
    }
   ],
   "source": [
    "DF_RAW = pd.read_csv('./data/df_raw.csv')\n",
    "DF_RAW.tail()"
   ]
  },
  {
   "cell_type": "code",
   "execution_count": 19,
   "metadata": {},
   "outputs": [
    {
     "name": "stdout",
     "output_type": "stream",
     "text": [
      "<class 'pandas.core.frame.DataFrame'>\n",
      "RangeIndex: 23151 entries, 0 to 23150\n",
      "Data columns (total 32 columns):\n",
      " #   Column           Non-Null Count  Dtype  \n",
      "---  ------           --------------  -----  \n",
      " 0   Unnamed: 0       23151 non-null  int64  \n",
      " 1   Date_imp         23151 non-null  object \n",
      " 2   Date_imp_d       23151 non-null  object \n",
      " 3   Cluster          23151 non-null  int64  \n",
      " 4   Category_name    23151 non-null  object \n",
      " 5   name             23151 non-null  object \n",
      " 6   price            23151 non-null  float64\n",
      " 7   disc_price       23151 non-null  float64\n",
      " 8   merchant         23151 non-null  object \n",
      " 9   condition        23151 non-null  object \n",
      " 10  Disc_percentage  23151 non-null  float64\n",
      " 11  isSale           23151 non-null  object \n",
      " 12  Imp_count        23151 non-null  int64  \n",
      " 13  brand            23151 non-null  object \n",
      " 14  p_description    23151 non-null  object \n",
      " 15  currency         23151 non-null  object \n",
      " 16  dateAdded        23151 non-null  object \n",
      " 17  dateSeen         23151 non-null  object \n",
      " 18  dateUpdated      23151 non-null  object \n",
      " 19  imageURLs        455 non-null    object \n",
      " 20  manufacturer     12512 non-null  object \n",
      " 21  shipping         11654 non-null  object \n",
      " 22  sourceURLs       18221 non-null  object \n",
      " 23  weight           23083 non-null  object \n",
      " 24  Date_imp_d.1     23151 non-null  object \n",
      " 25  Day_n            23151 non-null  object \n",
      " 26  month            23151 non-null  int64  \n",
      " 27  month_n          23151 non-null  object \n",
      " 28  day              23151 non-null  int64  \n",
      " 29  Week_Number      23151 non-null  int64  \n",
      " 30  Zscore_1         22980 non-null  float64\n",
      " 31  price_std        23151 non-null  float64\n",
      "dtypes: float64(5), int64(6), object(21)\n",
      "memory usage: 5.7+ MB\n"
     ]
    }
   ],
   "source": [
    "DF_RAW.info()"
   ]
  },
  {
   "cell_type": "code",
   "execution_count": 20,
   "metadata": {},
   "outputs": [
    {
     "data": {
      "application/vnd.microsoft.datawrangler.viewer.v0+json": {
       "columns": [
        {
         "name": "index",
         "rawType": "object",
         "type": "string"
        },
        {
         "name": "Unnamed: 0",
         "rawType": "float64",
         "type": "float"
        },
        {
         "name": "Cluster",
         "rawType": "float64",
         "type": "float"
        },
        {
         "name": "price",
         "rawType": "float64",
         "type": "float"
        },
        {
         "name": "disc_price",
         "rawType": "float64",
         "type": "float"
        },
        {
         "name": "Disc_percentage",
         "rawType": "float64",
         "type": "float"
        },
        {
         "name": "Imp_count",
         "rawType": "float64",
         "type": "float"
        },
        {
         "name": "month",
         "rawType": "float64",
         "type": "float"
        },
        {
         "name": "day",
         "rawType": "float64",
         "type": "float"
        },
        {
         "name": "Week_Number",
         "rawType": "float64",
         "type": "float"
        },
        {
         "name": "Zscore_1",
         "rawType": "float64",
         "type": "float"
        },
        {
         "name": "price_std",
         "rawType": "float64",
         "type": "float"
        }
       ],
       "ref": "8b8f1f2a-856f-4494-ac8d-ee958e834c14",
       "rows": [
        [
         "count",
         "23151.0",
         "23151.0",
         "23151.0",
         "23151.0",
         "23151.0",
         "23151.0",
         "23151.0",
         "23151.0",
         "23151.0",
         "22980.0",
         "23151.0"
        ],
        [
         "mean",
         "15338.31843116928",
         "22.682735087037276",
         "513.0378031186558",
         "494.1042952788216",
         "0.016933177832491035",
         "6.5609260939052305",
         "7.651030193080213",
         "15.693879314068507",
         "31.34274977322794",
         "0.15324888578041213",
         "61.99281919954511"
        ],
        [
         "std",
         "8528.805635946113",
         "15.576818198619423",
         "859.110002246721",
         "808.5889725235036",
         "0.07784918010784045",
         "5.40316607346796",
         "2.592843389721803",
         "9.681621882536628",
         "11.316497791717822",
         "0.8632165767134417",
         "125.49512834848105"
        ],
        [
         "min",
         "4.0",
         "0.0",
         "1.0",
         "1.0",
         "0.0",
         "1.0",
         "1.0",
         "1.0",
         "1.0",
         "-2.996396212469239",
         "0.0044721359549923"
        ],
        [
         "25%",
         "7897.5",
         "8.0",
         "82.99",
         "79.99",
         "0.0",
         "2.0",
         "6.0",
         "7.0",
         "23.0",
         "-0.6759276353620731",
         "7.771103525240148"
        ],
        [
         "50%",
         "15613.0",
         "20.0",
         "199.99",
         "199.0",
         "0.0",
         "5.0",
         "8.0",
         "16.0",
         "32.0",
         "0.20682854781614324",
         "18.76496228410304"
        ],
        [
         "75%",
         "22678.0",
         "35.0",
         "540.0",
         "516.49",
         "0.0",
         "10.0",
         "9.0",
         "24.0",
         "38.0",
         "0.7071067811865601",
         "59.176162276867714"
        ],
        [
         "max",
         "29592.0",
         "57.0",
         "10879.95",
         "10879.95",
         "0.8",
         "31.0",
         "12.0",
         "31.0",
         "51.0",
         "2.999945176715712",
         "1423.9021183669893"
        ]
       ],
       "shape": {
        "columns": 11,
        "rows": 8
       }
      },
      "text/html": [
       "<div>\n",
       "<style scoped>\n",
       "    .dataframe tbody tr th:only-of-type {\n",
       "        vertical-align: middle;\n",
       "    }\n",
       "\n",
       "    .dataframe tbody tr th {\n",
       "        vertical-align: top;\n",
       "    }\n",
       "\n",
       "    .dataframe thead th {\n",
       "        text-align: right;\n",
       "    }\n",
       "</style>\n",
       "<table border=\"1\" class=\"dataframe\">\n",
       "  <thead>\n",
       "    <tr style=\"text-align: right;\">\n",
       "      <th></th>\n",
       "      <th>Unnamed: 0</th>\n",
       "      <th>Cluster</th>\n",
       "      <th>price</th>\n",
       "      <th>disc_price</th>\n",
       "      <th>Disc_percentage</th>\n",
       "      <th>Imp_count</th>\n",
       "      <th>month</th>\n",
       "      <th>day</th>\n",
       "      <th>Week_Number</th>\n",
       "      <th>Zscore_1</th>\n",
       "      <th>price_std</th>\n",
       "    </tr>\n",
       "  </thead>\n",
       "  <tbody>\n",
       "    <tr>\n",
       "      <th>count</th>\n",
       "      <td>23151.000000</td>\n",
       "      <td>23151.000000</td>\n",
       "      <td>23151.000000</td>\n",
       "      <td>23151.000000</td>\n",
       "      <td>23151.000000</td>\n",
       "      <td>23151.000000</td>\n",
       "      <td>23151.000000</td>\n",
       "      <td>23151.000000</td>\n",
       "      <td>23151.000000</td>\n",
       "      <td>22980.000000</td>\n",
       "      <td>23151.000000</td>\n",
       "    </tr>\n",
       "    <tr>\n",
       "      <th>mean</th>\n",
       "      <td>15338.318431</td>\n",
       "      <td>22.682735</td>\n",
       "      <td>513.037803</td>\n",
       "      <td>494.104295</td>\n",
       "      <td>0.016933</td>\n",
       "      <td>6.560926</td>\n",
       "      <td>7.651030</td>\n",
       "      <td>15.693879</td>\n",
       "      <td>31.342750</td>\n",
       "      <td>0.153249</td>\n",
       "      <td>61.992819</td>\n",
       "    </tr>\n",
       "    <tr>\n",
       "      <th>std</th>\n",
       "      <td>8528.805636</td>\n",
       "      <td>15.576818</td>\n",
       "      <td>859.110002</td>\n",
       "      <td>808.588973</td>\n",
       "      <td>0.077849</td>\n",
       "      <td>5.403166</td>\n",
       "      <td>2.592843</td>\n",
       "      <td>9.681622</td>\n",
       "      <td>11.316498</td>\n",
       "      <td>0.863217</td>\n",
       "      <td>125.495128</td>\n",
       "    </tr>\n",
       "    <tr>\n",
       "      <th>min</th>\n",
       "      <td>4.000000</td>\n",
       "      <td>0.000000</td>\n",
       "      <td>1.000000</td>\n",
       "      <td>1.000000</td>\n",
       "      <td>0.000000</td>\n",
       "      <td>1.000000</td>\n",
       "      <td>1.000000</td>\n",
       "      <td>1.000000</td>\n",
       "      <td>1.000000</td>\n",
       "      <td>-2.996396</td>\n",
       "      <td>0.004472</td>\n",
       "    </tr>\n",
       "    <tr>\n",
       "      <th>25%</th>\n",
       "      <td>7897.500000</td>\n",
       "      <td>8.000000</td>\n",
       "      <td>82.990000</td>\n",
       "      <td>79.990000</td>\n",
       "      <td>0.000000</td>\n",
       "      <td>2.000000</td>\n",
       "      <td>6.000000</td>\n",
       "      <td>7.000000</td>\n",
       "      <td>23.000000</td>\n",
       "      <td>-0.675928</td>\n",
       "      <td>7.771104</td>\n",
       "    </tr>\n",
       "    <tr>\n",
       "      <th>50%</th>\n",
       "      <td>15613.000000</td>\n",
       "      <td>20.000000</td>\n",
       "      <td>199.990000</td>\n",
       "      <td>199.000000</td>\n",
       "      <td>0.000000</td>\n",
       "      <td>5.000000</td>\n",
       "      <td>8.000000</td>\n",
       "      <td>16.000000</td>\n",
       "      <td>32.000000</td>\n",
       "      <td>0.206829</td>\n",
       "      <td>18.764962</td>\n",
       "    </tr>\n",
       "    <tr>\n",
       "      <th>75%</th>\n",
       "      <td>22678.000000</td>\n",
       "      <td>35.000000</td>\n",
       "      <td>540.000000</td>\n",
       "      <td>516.490000</td>\n",
       "      <td>0.000000</td>\n",
       "      <td>10.000000</td>\n",
       "      <td>9.000000</td>\n",
       "      <td>24.000000</td>\n",
       "      <td>38.000000</td>\n",
       "      <td>0.707107</td>\n",
       "      <td>59.176162</td>\n",
       "    </tr>\n",
       "    <tr>\n",
       "      <th>max</th>\n",
       "      <td>29592.000000</td>\n",
       "      <td>57.000000</td>\n",
       "      <td>10879.950000</td>\n",
       "      <td>10879.950000</td>\n",
       "      <td>0.800000</td>\n",
       "      <td>31.000000</td>\n",
       "      <td>12.000000</td>\n",
       "      <td>31.000000</td>\n",
       "      <td>51.000000</td>\n",
       "      <td>2.999945</td>\n",
       "      <td>1423.902118</td>\n",
       "    </tr>\n",
       "  </tbody>\n",
       "</table>\n",
       "</div>"
      ],
      "text/plain": [
       "         Unnamed: 0       Cluster         price    disc_price  \\\n",
       "count  23151.000000  23151.000000  23151.000000  23151.000000   \n",
       "mean   15338.318431     22.682735    513.037803    494.104295   \n",
       "std     8528.805636     15.576818    859.110002    808.588973   \n",
       "min        4.000000      0.000000      1.000000      1.000000   \n",
       "25%     7897.500000      8.000000     82.990000     79.990000   \n",
       "50%    15613.000000     20.000000    199.990000    199.000000   \n",
       "75%    22678.000000     35.000000    540.000000    516.490000   \n",
       "max    29592.000000     57.000000  10879.950000  10879.950000   \n",
       "\n",
       "       Disc_percentage     Imp_count         month           day  \\\n",
       "count     23151.000000  23151.000000  23151.000000  23151.000000   \n",
       "mean          0.016933      6.560926      7.651030     15.693879   \n",
       "std           0.077849      5.403166      2.592843      9.681622   \n",
       "min           0.000000      1.000000      1.000000      1.000000   \n",
       "25%           0.000000      2.000000      6.000000      7.000000   \n",
       "50%           0.000000      5.000000      8.000000     16.000000   \n",
       "75%           0.000000     10.000000      9.000000     24.000000   \n",
       "max           0.800000     31.000000     12.000000     31.000000   \n",
       "\n",
       "        Week_Number      Zscore_1     price_std  \n",
       "count  23151.000000  22980.000000  23151.000000  \n",
       "mean      31.342750      0.153249     61.992819  \n",
       "std       11.316498      0.863217    125.495128  \n",
       "min        1.000000     -2.996396      0.004472  \n",
       "25%       23.000000     -0.675928      7.771104  \n",
       "50%       32.000000      0.206829     18.764962  \n",
       "75%       38.000000      0.707107     59.176162  \n",
       "max       51.000000      2.999945   1423.902118  "
      ]
     },
     "execution_count": 20,
     "metadata": {},
     "output_type": "execute_result"
    }
   ],
   "source": [
    "DF_RAW.describe()"
   ]
  },
  {
   "cell_type": "code",
   "execution_count": 21,
   "metadata": {},
   "outputs": [
    {
     "data": {
      "application/vnd.microsoft.datawrangler.viewer.v0+json": {
       "columns": [
        {
         "name": "index",
         "rawType": "object",
         "type": "string"
        },
        {
         "name": "0",
         "rawType": "int64",
         "type": "integer"
        }
       ],
       "ref": "e744a5d1-f700-4910-8c91-9e942268bb12",
       "rows": [
        [
         "Unnamed: 0",
         "0"
        ],
        [
         "Date_imp",
         "0"
        ],
        [
         "Date_imp_d",
         "0"
        ],
        [
         "Cluster",
         "0"
        ],
        [
         "Category_name",
         "0"
        ],
        [
         "name",
         "0"
        ],
        [
         "price",
         "0"
        ],
        [
         "disc_price",
         "0"
        ],
        [
         "merchant",
         "0"
        ],
        [
         "condition",
         "0"
        ],
        [
         "Disc_percentage",
         "0"
        ],
        [
         "isSale",
         "0"
        ],
        [
         "Imp_count",
         "0"
        ],
        [
         "brand",
         "0"
        ],
        [
         "p_description",
         "0"
        ],
        [
         "currency",
         "0"
        ],
        [
         "dateAdded",
         "0"
        ],
        [
         "dateSeen",
         "0"
        ],
        [
         "dateUpdated",
         "0"
        ],
        [
         "imageURLs",
         "22696"
        ],
        [
         "manufacturer",
         "10639"
        ],
        [
         "shipping",
         "11497"
        ],
        [
         "sourceURLs",
         "4930"
        ],
        [
         "weight",
         "68"
        ],
        [
         "Date_imp_d.1",
         "0"
        ],
        [
         "Day_n",
         "0"
        ],
        [
         "month",
         "0"
        ],
        [
         "month_n",
         "0"
        ],
        [
         "day",
         "0"
        ],
        [
         "Week_Number",
         "0"
        ],
        [
         "Zscore_1",
         "171"
        ],
        [
         "price_std",
         "0"
        ]
       ],
       "shape": {
        "columns": 1,
        "rows": 32
       }
      },
      "text/plain": [
       "Unnamed: 0             0\n",
       "Date_imp               0\n",
       "Date_imp_d             0\n",
       "Cluster                0\n",
       "Category_name          0\n",
       "name                   0\n",
       "price                  0\n",
       "disc_price             0\n",
       "merchant               0\n",
       "condition              0\n",
       "Disc_percentage        0\n",
       "isSale                 0\n",
       "Imp_count              0\n",
       "brand                  0\n",
       "p_description          0\n",
       "currency               0\n",
       "dateAdded              0\n",
       "dateSeen               0\n",
       "dateUpdated            0\n",
       "imageURLs          22696\n",
       "manufacturer       10639\n",
       "shipping           11497\n",
       "sourceURLs          4930\n",
       "weight                68\n",
       "Date_imp_d.1           0\n",
       "Day_n                  0\n",
       "month                  0\n",
       "month_n                0\n",
       "day                    0\n",
       "Week_Number            0\n",
       "Zscore_1             171\n",
       "price_std              0\n",
       "dtype: int64"
      ]
     },
     "execution_count": 21,
     "metadata": {},
     "output_type": "execute_result"
    }
   ],
   "source": [
    "DF_RAW.isna().sum()"
   ]
  },
  {
   "cell_type": "markdown",
   "metadata": {},
   "source": [
    "# 2 - Limpeza"
   ]
  },
  {
   "cell_type": "code",
   "execution_count": 22,
   "metadata": {},
   "outputs": [],
   "source": [
    "df_clear = DF_RAW.copy()"
   ]
  },
  {
   "cell_type": "code",
   "execution_count": 23,
   "metadata": {},
   "outputs": [],
   "source": [
    "# Remove colunas que não serão usadas\n",
    "df_clear = df_clear.drop(columns={  'Unnamed: 0', 'Date_imp', 'Cluster', 'condition', 'sourceURLs', 'Date_imp_d.1', 'Zscore_1', 'price_std', 'imageURLs', 'shipping', 'weight', 'currency'})\n",
    "# Altera nome das colunas\n",
    "df_clear.columns = ['date_imp', 'category_name', 'name', 'price', 'disc_price', 'merchant', 'disc_percentage', 'is_sale', 'imp_count', 'brand', 'p_description', 'dateadded', 'dateseen',\n",
    "                    'dateupdated', 'manufacturer', 'day_n', 'month', 'month_n', 'day', 'week_number']\n",
    "# Altera tipo de dado\n",
    "df_clear['date_imp'] = pd.to_datetime(df_clear['date_imp'])"
   ]
  },
  {
   "cell_type": "code",
   "execution_count": 24,
   "metadata": {},
   "outputs": [
    {
     "data": {
      "application/vnd.microsoft.datawrangler.viewer.v0+json": {
       "columns": [
        {
         "name": "index",
         "rawType": "object",
         "type": "string"
        },
        {
         "name": "0",
         "rawType": "int64",
         "type": "integer"
        }
       ],
       "ref": "a2e43472-99f5-49b3-8918-b481bfbe2644",
       "rows": [
        [
         "date_imp",
         "0"
        ],
        [
         "category_name",
         "0"
        ],
        [
         "name",
         "0"
        ],
        [
         "price",
         "0"
        ],
        [
         "disc_price",
         "0"
        ],
        [
         "merchant",
         "0"
        ],
        [
         "disc_percentage",
         "0"
        ],
        [
         "is_sale",
         "0"
        ],
        [
         "imp_count",
         "0"
        ],
        [
         "brand",
         "0"
        ],
        [
         "p_description",
         "0"
        ],
        [
         "dateadded",
         "0"
        ],
        [
         "dateseen",
         "0"
        ],
        [
         "dateupdated",
         "0"
        ],
        [
         "manufacturer",
         "10639"
        ],
        [
         "day_n",
         "0"
        ],
        [
         "month",
         "0"
        ],
        [
         "month_n",
         "0"
        ],
        [
         "day",
         "0"
        ],
        [
         "week_number",
         "0"
        ]
       ],
       "shape": {
        "columns": 1,
        "rows": 20
       }
      },
      "text/plain": [
       "date_imp               0\n",
       "category_name          0\n",
       "name                   0\n",
       "price                  0\n",
       "disc_price             0\n",
       "merchant               0\n",
       "disc_percentage        0\n",
       "is_sale                0\n",
       "imp_count              0\n",
       "brand                  0\n",
       "p_description          0\n",
       "dateadded              0\n",
       "dateseen               0\n",
       "dateupdated            0\n",
       "manufacturer       10639\n",
       "day_n                  0\n",
       "month                  0\n",
       "month_n                0\n",
       "day                    0\n",
       "week_number            0\n",
       "dtype: int64"
      ]
     },
     "execution_count": 24,
     "metadata": {},
     "output_type": "execute_result"
    }
   ],
   "source": [
    "df_clear.isna().sum()"
   ]
  },
  {
   "attachments": {},
   "cell_type": "markdown",
   "metadata": {},
   "source": [
    "# 3 - Estatística descritiva"
   ]
  },
  {
   "cell_type": "code",
   "execution_count": 27,
   "metadata": {},
   "outputs": [
    {
     "name": "stdout",
     "output_type": "stream",
     "text": [
      "<class 'pandas.core.frame.DataFrame'>\n",
      "RangeIndex: 23151 entries, 0 to 23150\n",
      "Data columns (total 20 columns):\n",
      " #   Column           Non-Null Count  Dtype         \n",
      "---  ------           --------------  -----         \n",
      " 0   date_imp         23151 non-null  datetime64[ns]\n",
      " 1   category_name    23151 non-null  object        \n",
      " 2   name             23151 non-null  object        \n",
      " 3   price            23151 non-null  float64       \n",
      " 4   disc_price       23151 non-null  float64       \n",
      " 5   merchant         23151 non-null  object        \n",
      " 6   disc_percentage  23151 non-null  float64       \n",
      " 7   is_sale          23151 non-null  object        \n",
      " 8   imp_count        23151 non-null  int64         \n",
      " 9   brand            23151 non-null  object        \n",
      " 10  p_description    23151 non-null  object        \n",
      " 11  dateadded        23151 non-null  object        \n",
      " 12  dateseen         23151 non-null  object        \n",
      " 13  dateupdated      23151 non-null  object        \n",
      " 14  manufacturer     12512 non-null  object        \n",
      " 15  day_n            23151 non-null  object        \n",
      " 16  month            23151 non-null  int64         \n",
      " 17  month_n          23151 non-null  object        \n",
      " 18  day              23151 non-null  int64         \n",
      " 19  week_number      23151 non-null  int64         \n",
      "dtypes: datetime64[ns](1), float64(3), int64(4), object(12)\n",
      "memory usage: 3.5+ MB\n"
     ]
    }
   ],
   "source": [
    "df_clear.info()"
   ]
  },
  {
   "cell_type": "code",
   "execution_count": 36,
   "metadata": {},
   "outputs": [],
   "source": [
    "# Separa colunas númericas e categoricas\n",
    "nums = df_clear.select_dtypes( include=['float64', 'int64']).columns.tolist()\n",
    "cats = df_clear.select_dtypes( exclude=['float64', 'int64', 'datetime64[ns]']).columns.tolist()"
   ]
  },
  {
   "cell_type": "markdown",
   "metadata": {},
   "source": [
    "## 3.1 - Atributos numéricos"
   ]
  },
  {
   "cell_type": "code",
   "execution_count": 37,
   "metadata": {},
   "outputs": [
    {
     "data": {
      "application/vnd.microsoft.datawrangler.viewer.v0+json": {
       "columns": [
        {
         "name": "index",
         "rawType": "object",
         "type": "string"
        },
        {
         "name": "count",
         "rawType": "object",
         "type": "unknown"
        },
        {
         "name": "mean",
         "rawType": "object",
         "type": "unknown"
        },
        {
         "name": "min",
         "rawType": "object",
         "type": "unknown"
        },
        {
         "name": "25%",
         "rawType": "object",
         "type": "unknown"
        },
        {
         "name": "50%",
         "rawType": "object",
         "type": "unknown"
        },
        {
         "name": "75%",
         "rawType": "object",
         "type": "unknown"
        },
        {
         "name": "max",
         "rawType": "object",
         "type": "unknown"
        },
        {
         "name": "std",
         "rawType": "object",
         "type": "unknown"
        }
       ],
       "ref": "be6765e9-882a-4683-a7c2-1539bd360b78",
       "rows": [
        [
         "date_imp",
         "23151",
         "2017-08-04 22:21:32.211999488",
         "2017-01-05 00:00:00",
         "2017-06-09 00:00:00",
         "2017-08-10 00:00:00",
         "2017-09-24 00:00:00",
         "2017-12-22 00:00:00",
         null
        ],
        [
         "price",
         "23151.0",
         "513.0378031186558",
         "1.0",
         "82.99",
         "199.99",
         "540.0",
         "10879.95",
         "859.110002246721"
        ],
        [
         "disc_price",
         "23151.0",
         "494.1042952788216",
         "1.0",
         "79.99",
         "199.0",
         "516.49",
         "10879.95",
         "808.5889725235036"
        ],
        [
         "disc_percentage",
         "23151.0",
         "0.016933177832491035",
         "0.0",
         "0.0",
         "0.0",
         "0.0",
         "0.8",
         "0.07784918010784045"
        ],
        [
         "imp_count",
         "23151.0",
         "6.5609260939052305",
         "1.0",
         "2.0",
         "5.0",
         "10.0",
         "31.0",
         "5.40316607346796"
        ],
        [
         "month",
         "23151.0",
         "7.651030193080213",
         "1.0",
         "6.0",
         "8.0",
         "9.0",
         "12.0",
         "2.592843389721803"
        ],
        [
         "day",
         "23151.0",
         "15.693879314068507",
         "1.0",
         "7.0",
         "16.0",
         "24.0",
         "31.0",
         "9.681621882536628"
        ],
        [
         "week_number",
         "23151.0",
         "31.34274977322794",
         "1.0",
         "23.0",
         "32.0",
         "38.0",
         "51.0",
         "11.316497791717822"
        ]
       ],
       "shape": {
        "columns": 8,
        "rows": 8
       }
      },
      "text/html": [
       "<div>\n",
       "<style scoped>\n",
       "    .dataframe tbody tr th:only-of-type {\n",
       "        vertical-align: middle;\n",
       "    }\n",
       "\n",
       "    .dataframe tbody tr th {\n",
       "        vertical-align: top;\n",
       "    }\n",
       "\n",
       "    .dataframe thead th {\n",
       "        text-align: right;\n",
       "    }\n",
       "</style>\n",
       "<table border=\"1\" class=\"dataframe\">\n",
       "  <thead>\n",
       "    <tr style=\"text-align: right;\">\n",
       "      <th></th>\n",
       "      <th>count</th>\n",
       "      <th>mean</th>\n",
       "      <th>min</th>\n",
       "      <th>25%</th>\n",
       "      <th>50%</th>\n",
       "      <th>75%</th>\n",
       "      <th>max</th>\n",
       "      <th>std</th>\n",
       "    </tr>\n",
       "  </thead>\n",
       "  <tbody>\n",
       "    <tr>\n",
       "      <th>date_imp</th>\n",
       "      <td>23151</td>\n",
       "      <td>2017-08-04 22:21:32.211999488</td>\n",
       "      <td>2017-01-05 00:00:00</td>\n",
       "      <td>2017-06-09 00:00:00</td>\n",
       "      <td>2017-08-10 00:00:00</td>\n",
       "      <td>2017-09-24 00:00:00</td>\n",
       "      <td>2017-12-22 00:00:00</td>\n",
       "      <td>NaN</td>\n",
       "    </tr>\n",
       "    <tr>\n",
       "      <th>price</th>\n",
       "      <td>23151.0</td>\n",
       "      <td>513.037803</td>\n",
       "      <td>1.0</td>\n",
       "      <td>82.99</td>\n",
       "      <td>199.99</td>\n",
       "      <td>540.0</td>\n",
       "      <td>10879.95</td>\n",
       "      <td>859.110002</td>\n",
       "    </tr>\n",
       "    <tr>\n",
       "      <th>disc_price</th>\n",
       "      <td>23151.0</td>\n",
       "      <td>494.104295</td>\n",
       "      <td>1.0</td>\n",
       "      <td>79.99</td>\n",
       "      <td>199.0</td>\n",
       "      <td>516.49</td>\n",
       "      <td>10879.95</td>\n",
       "      <td>808.588973</td>\n",
       "    </tr>\n",
       "    <tr>\n",
       "      <th>disc_percentage</th>\n",
       "      <td>23151.0</td>\n",
       "      <td>0.016933</td>\n",
       "      <td>0.0</td>\n",
       "      <td>0.0</td>\n",
       "      <td>0.0</td>\n",
       "      <td>0.0</td>\n",
       "      <td>0.8</td>\n",
       "      <td>0.077849</td>\n",
       "    </tr>\n",
       "    <tr>\n",
       "      <th>imp_count</th>\n",
       "      <td>23151.0</td>\n",
       "      <td>6.560926</td>\n",
       "      <td>1.0</td>\n",
       "      <td>2.0</td>\n",
       "      <td>5.0</td>\n",
       "      <td>10.0</td>\n",
       "      <td>31.0</td>\n",
       "      <td>5.403166</td>\n",
       "    </tr>\n",
       "    <tr>\n",
       "      <th>month</th>\n",
       "      <td>23151.0</td>\n",
       "      <td>7.65103</td>\n",
       "      <td>1.0</td>\n",
       "      <td>6.0</td>\n",
       "      <td>8.0</td>\n",
       "      <td>9.0</td>\n",
       "      <td>12.0</td>\n",
       "      <td>2.592843</td>\n",
       "    </tr>\n",
       "    <tr>\n",
       "      <th>day</th>\n",
       "      <td>23151.0</td>\n",
       "      <td>15.693879</td>\n",
       "      <td>1.0</td>\n",
       "      <td>7.0</td>\n",
       "      <td>16.0</td>\n",
       "      <td>24.0</td>\n",
       "      <td>31.0</td>\n",
       "      <td>9.681622</td>\n",
       "    </tr>\n",
       "    <tr>\n",
       "      <th>week_number</th>\n",
       "      <td>23151.0</td>\n",
       "      <td>31.34275</td>\n",
       "      <td>1.0</td>\n",
       "      <td>23.0</td>\n",
       "      <td>32.0</td>\n",
       "      <td>38.0</td>\n",
       "      <td>51.0</td>\n",
       "      <td>11.316498</td>\n",
       "    </tr>\n",
       "  </tbody>\n",
       "</table>\n",
       "</div>"
      ],
      "text/plain": [
       "                   count                           mean                  min  \\\n",
       "date_imp           23151  2017-08-04 22:21:32.211999488  2017-01-05 00:00:00   \n",
       "price            23151.0                     513.037803                  1.0   \n",
       "disc_price       23151.0                     494.104295                  1.0   \n",
       "disc_percentage  23151.0                       0.016933                  0.0   \n",
       "imp_count        23151.0                       6.560926                  1.0   \n",
       "month            23151.0                        7.65103                  1.0   \n",
       "day              23151.0                      15.693879                  1.0   \n",
       "week_number      23151.0                       31.34275                  1.0   \n",
       "\n",
       "                                 25%                  50%  \\\n",
       "date_imp         2017-06-09 00:00:00  2017-08-10 00:00:00   \n",
       "price                          82.99               199.99   \n",
       "disc_price                     79.99                199.0   \n",
       "disc_percentage                  0.0                  0.0   \n",
       "imp_count                        2.0                  5.0   \n",
       "month                            6.0                  8.0   \n",
       "day                              7.0                 16.0   \n",
       "week_number                     23.0                 32.0   \n",
       "\n",
       "                                 75%                  max         std  \n",
       "date_imp         2017-09-24 00:00:00  2017-12-22 00:00:00         NaN  \n",
       "price                          540.0             10879.95  859.110002  \n",
       "disc_price                    516.49             10879.95  808.588973  \n",
       "disc_percentage                  0.0                  0.8    0.077849  \n",
       "imp_count                       10.0                 31.0    5.403166  \n",
       "month                            9.0                 12.0    2.592843  \n",
       "day                             24.0                 31.0    9.681622  \n",
       "week_number                     38.0                 51.0   11.316498  "
      ]
     },
     "execution_count": 37,
     "metadata": {},
     "output_type": "execute_result"
    }
   ],
   "source": [
    "# Tendencia central e dispersão\n",
    "df_clear.describe().T"
   ]
  },
  {
   "cell_type": "code",
   "execution_count": 41,
   "metadata": {},
   "outputs": [
    {
     "data": {
      "application/vnd.microsoft.datawrangler.viewer.v0+json": {
       "columns": [
        {
         "name": "index",
         "rawType": "object",
         "type": "string"
        },
        {
         "name": "skew",
         "rawType": "float64",
         "type": "float"
        },
        {
         "name": "kurtosis",
         "rawType": "float64",
         "type": "float"
        }
       ],
       "ref": "aa3c30e4-f92e-476c-978f-ccaed8098082",
       "rows": [
        [
         "price",
         "4.595160393407223",
         "34.41114599870874"
        ],
        [
         "disc_price",
         "4.748348543490575",
         "39.61283915842561"
        ],
        [
         "disc_percentage",
         "5.217631887682406",
         "28.754919995223236"
        ],
        [
         "imp_count",
         "1.2863510230165172",
         "1.6395687160837444"
        ],
        [
         "month",
         "-0.09941733095528932",
         "-0.6288591778514756"
        ],
        [
         "day",
         "0.032258251913176265",
         "-1.3318379183163205"
        ],
        [
         "week_number",
         "-0.26698012812567296",
         "-0.6480270253723552"
        ]
       ],
       "shape": {
        "columns": 2,
        "rows": 7
       }
      },
      "text/html": [
       "<div>\n",
       "<style scoped>\n",
       "    .dataframe tbody tr th:only-of-type {\n",
       "        vertical-align: middle;\n",
       "    }\n",
       "\n",
       "    .dataframe tbody tr th {\n",
       "        vertical-align: top;\n",
       "    }\n",
       "\n",
       "    .dataframe thead th {\n",
       "        text-align: right;\n",
       "    }\n",
       "</style>\n",
       "<table border=\"1\" class=\"dataframe\">\n",
       "  <thead>\n",
       "    <tr style=\"text-align: right;\">\n",
       "      <th></th>\n",
       "      <th>skew</th>\n",
       "      <th>kurtosis</th>\n",
       "    </tr>\n",
       "  </thead>\n",
       "  <tbody>\n",
       "    <tr>\n",
       "      <th>price</th>\n",
       "      <td>4.595160</td>\n",
       "      <td>34.411146</td>\n",
       "    </tr>\n",
       "    <tr>\n",
       "      <th>disc_price</th>\n",
       "      <td>4.748349</td>\n",
       "      <td>39.612839</td>\n",
       "    </tr>\n",
       "    <tr>\n",
       "      <th>disc_percentage</th>\n",
       "      <td>5.217632</td>\n",
       "      <td>28.754920</td>\n",
       "    </tr>\n",
       "    <tr>\n",
       "      <th>imp_count</th>\n",
       "      <td>1.286351</td>\n",
       "      <td>1.639569</td>\n",
       "    </tr>\n",
       "    <tr>\n",
       "      <th>month</th>\n",
       "      <td>-0.099417</td>\n",
       "      <td>-0.628859</td>\n",
       "    </tr>\n",
       "    <tr>\n",
       "      <th>day</th>\n",
       "      <td>0.032258</td>\n",
       "      <td>-1.331838</td>\n",
       "    </tr>\n",
       "    <tr>\n",
       "      <th>week_number</th>\n",
       "      <td>-0.266980</td>\n",
       "      <td>-0.648027</td>\n",
       "    </tr>\n",
       "  </tbody>\n",
       "</table>\n",
       "</div>"
      ],
      "text/plain": [
       "                     skew   kurtosis\n",
       "price            4.595160  34.411146\n",
       "disc_price       4.748349  39.612839\n",
       "disc_percentage  5.217632  28.754920\n",
       "imp_count        1.286351   1.639569\n",
       "month           -0.099417  -0.628859\n",
       "day              0.032258  -1.331838\n",
       "week_number     -0.266980  -0.648027"
      ]
     },
     "execution_count": 41,
     "metadata": {},
     "output_type": "execute_result"
    }
   ],
   "source": [
    "# Skewness e kurtosis\n",
    "df_clear[nums].agg(['skew', 'kurtosis']).T"
   ]
  },
  {
   "cell_type": "code",
   "execution_count": 38,
   "metadata": {},
   "outputs": [
    {
     "data": {
      "application/vnd.microsoft.datawrangler.viewer.v0+json": {
       "columns": [
        {
         "name": "index",
         "rawType": "object",
         "type": "string"
        },
        {
         "name": "0",
         "rawType": "float64",
         "type": "float"
        }
       ],
       "ref": "989ce91e-462e-46a4-b6c0-b088601395dd",
       "rows": [
        [
         "price",
         "10878.95"
        ],
        [
         "disc_price",
         "10878.95"
        ],
        [
         "disc_percentage",
         "0.8"
        ],
        [
         "imp_count",
         "30.0"
        ],
        [
         "month",
         "11.0"
        ],
        [
         "day",
         "30.0"
        ],
        [
         "week_number",
         "50.0"
        ]
       ],
       "shape": {
        "columns": 1,
        "rows": 7
       }
      },
      "text/plain": [
       "price              10878.95\n",
       "disc_price         10878.95\n",
       "disc_percentage        0.80\n",
       "imp_count             30.00\n",
       "month                 11.00\n",
       "day                   30.00\n",
       "week_number           50.00\n",
       "dtype: float64"
      ]
     },
     "execution_count": 38,
     "metadata": {},
     "output_type": "execute_result"
    }
   ],
   "source": [
    "# Range\n",
    "df_clear[nums].max() - df_clear[nums].min()"
   ]
  }
 ],
 "metadata": {
  "kernelspec": {
   "display_name": "base",
   "language": "python",
   "name": "python3"
  },
  "language_info": {
   "codemirror_mode": {
    "name": "ipython",
    "version": 3
   },
   "file_extension": ".py",
   "mimetype": "text/x-python",
   "name": "python",
   "nbconvert_exporter": "python",
   "pygments_lexer": "ipython3",
   "version": "3.13.5"
  },
  "orig_nbformat": 4
 },
 "nbformat": 4,
 "nbformat_minor": 2
}
